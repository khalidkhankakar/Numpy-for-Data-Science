{
 "cells": [
  {
   "cell_type": "markdown",
   "id": "6a8133dc",
   "metadata": {},
   "source": [
    "## Creating the array in numpy"
   ]
  },
  {
   "cell_type": "code",
   "execution_count": 3,
   "id": "c9715345",
   "metadata": {},
   "outputs": [],
   "source": [
    "import numpy as np"
   ]
  },
  {
   "cell_type": "code",
   "execution_count": 4,
   "id": "7e061c43",
   "metadata": {},
   "outputs": [
    {
     "data": {
      "text/plain": [
       "array([1, 2, 3, 4, 5])"
      ]
     },
     "execution_count": 4,
     "metadata": {},
     "output_type": "execute_result"
    }
   ],
   "source": [
    "arr = np.array([1,2,3,4,5])\n",
    "arr"
   ]
  },
  {
   "cell_type": "markdown",
   "id": "163f5df0",
   "metadata": {},
   "source": [
    "### Creatingg 2D array\n"
   ]
  },
  {
   "cell_type": "code",
   "execution_count": 5,
   "id": "6a473662",
   "metadata": {},
   "outputs": [
    {
     "data": {
      "text/plain": [
       "array([[1, 3, 4],\n",
       "       [2, 4, 5]])"
      ]
     },
     "execution_count": 5,
     "metadata": {},
     "output_type": "execute_result"
    }
   ],
   "source": [
    "arr_2d = np.array([[1,3,4],[2,4,5]])\n",
    "arr_2d"
   ]
  },
  {
   "cell_type": "code",
   "execution_count": null,
   "id": "d500e7f0",
   "metadata": {},
   "outputs": [
    {
     "name": "stdout",
     "output_type": "stream",
     "text": [
      "[0. 0. 0. 0.]\n",
      "[[0. 0. 0.]\n",
      " [0. 0. 0.]]\n",
      "[1. 1. 1. 1.]\n",
      "[[1. 1. 1.]\n",
      " [1. 1. 1.]]\n",
      "[ 0  1  2  3  4  5  6  7  8  9 10 11]\n",
      "[0.18580906 0.487543   0.0836689  0.94937829 0.38322039 0.71769417\n",
      " 0.49429854 0.48915992 0.6773421  0.91172189 0.24178184 0.64867247]\n",
      "[ 1.    3.25  5.5   7.75 10.  ]\n"
     ]
    }
   ],
   "source": [
    "# Array of zeros\n",
    "zeros_arr = np.zeros(4)\n",
    "print(zeros_arr)\n",
    "zeors_arr_2d = np.zeros((2,3))\n",
    "print(zeors_arr_2d)\n",
    "\n",
    "# Array of ones\n",
    "ones_arr = np.ones(4)\n",
    "print(ones_arr)\n",
    "ones_arr_2d = np.ones((2,3))\n",
    "print(ones_arr_2d)\n",
    "\n",
    "# With range values\n",
    "range_arr = np.arange(0,12)\n",
    "print(range_arr)\n",
    "\n",
    "# Random array\n",
    "random_arr = np.random.random(12)\n",
    "print(random_arr)\n",
    "\n",
    "# evenly spaced number over interval\n",
    "linspace_arr = np.linspace(0, 10, 5)\n",
    "print(linspace_arr)\n"
   ]
  },
  {
   "cell_type": "markdown",
   "id": "97f496f5",
   "metadata": {},
   "source": [
    "### Array properties and attributes"
   ]
  },
  {
   "cell_type": "code",
   "execution_count": 20,
   "id": "bdfede89",
   "metadata": {},
   "outputs": [
    {
     "name": "stdout",
     "output_type": "stream",
     "text": [
      "[[12 13 14]\n",
      " [15 16 17]]\n",
      "2\n",
      "(2, 3)\n",
      "6\n",
      "8\n",
      "[[12 15]\n",
      " [13 16]\n",
      " [14 17]]\n"
     ]
    }
   ],
   "source": [
    "new_arr = np.array([[12,13,14],[15,16,17]])\n",
    "print(new_arr)\n",
    "\n",
    "#dimension of array\n",
    "print(new_arr.ndim)\n",
    "\n",
    "#shape of array\n",
    "print(new_arr.shape)\n",
    "\n",
    "#total size\n",
    "print(new_arr.size)\n",
    "\n",
    "#size in bytes of each elemen\n",
    "print(new_arr.itemsize)\n",
    "\n",
    "#transpose of array\n",
    "print(new_arr.T)"
   ]
  },
  {
   "cell_type": "markdown",
   "id": "af8213c6",
   "metadata": {},
   "source": [
    "### Operations on Array"
   ]
  },
  {
   "cell_type": "code",
   "execution_count": 24,
   "id": "37d1bd73",
   "metadata": {},
   "outputs": [
    {
     "name": "stdout",
     "output_type": "stream",
     "text": [
      "[ 6  8 10 12]\n",
      "[-4 -4 -4 -4]\n",
      "[ 5 12 21 32]\n",
      "[0.2        0.33333333 0.42857143 0.5       ]\n",
      "[ 1  4  9 16]\n"
     ]
    }
   ],
   "source": [
    "a = np.array([1,2,3,4])\n",
    "b = np.array([5,6,7,8])\n",
    "\n",
    "# Addition\n",
    "print(a+b)\n",
    "\n",
    "#Subtraction\n",
    "print(a-b)\n",
    "\n",
    "#multiplication element wise\n",
    "print(a*b)\n",
    "\n",
    "# division of array \n",
    "print(a/b)\n",
    "\n",
    "#Exponention\n",
    "print(a ** 2)"
   ]
  }
 ],
 "metadata": {
  "kernelspec": {
   "display_name": "venv",
   "language": "python",
   "name": "python3"
  },
  "language_info": {
   "codemirror_mode": {
    "name": "ipython",
    "version": 3
   },
   "file_extension": ".py",
   "mimetype": "text/x-python",
   "name": "python",
   "nbconvert_exporter": "python",
   "pygments_lexer": "ipython3",
   "version": "3.13.1"
  }
 },
 "nbformat": 4,
 "nbformat_minor": 5
}
