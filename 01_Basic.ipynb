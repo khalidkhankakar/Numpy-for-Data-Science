{
 "cells": [
  {
   "cell_type": "markdown",
   "id": "6a8133dc",
   "metadata": {},
   "source": [
    "## Creating the array in numpy"
   ]
  },
  {
   "cell_type": "code",
   "execution_count": null,
   "id": "c9715345",
   "metadata": {},
   "outputs": [],
   "source": [
    "import numpy as np"
   ]
  },
  {
   "cell_type": "code",
   "execution_count": null,
   "id": "7e061c43",
   "metadata": {},
   "outputs": [],
   "source": [
    "arr = np.array([1,2,3,4,5])\n",
    "arr"
   ]
  },
  {
   "cell_type": "markdown",
   "id": "163f5df0",
   "metadata": {},
   "source": [
    "### Creatingg 2D array\n"
   ]
  },
  {
   "cell_type": "code",
   "execution_count": null,
   "id": "6a473662",
   "metadata": {},
   "outputs": [],
   "source": [
    "arr_2d = np.array([[1,3,4],[2,4,5]])\n",
    "arr_2d"
   ]
  },
  {
   "cell_type": "code",
   "execution_count": null,
   "id": "d500e7f0",
   "metadata": {},
   "outputs": [],
   "source": [
    "# Array of zeros\n",
    "zeros_arr = np.zeros(4)\n",
    "print(zeros_arr)\n",
    "zeors_arr_2d = np.zeros((2,3))\n",
    "print(zeors_arr_2d)\n",
    "\n",
    "# Array of ones\n",
    "ones_arr = np.ones(4)\n",
    "print(ones_arr)\n",
    "ones_arr_2d = np.ones((2,3))\n",
    "print(ones_arr_2d)\n",
    "\n",
    "# With range values\n",
    "range_arr = np.arange(0,12)\n",
    "print(range_arr)\n",
    "\n",
    "# Random array\n",
    "random_arr = np.random.random(12)\n",
    "print(random_arr)\n",
    "\n",
    "# evenly spaced number over interval\n",
    "linspace_arr = np.linspace(0, 10, 5)\n",
    "print(linspace_arr)\n"
   ]
  },
  {
   "cell_type": "markdown",
   "id": "97f496f5",
   "metadata": {},
   "source": [
    "### Array properties and attributes"
   ]
  },
  {
   "cell_type": "code",
   "execution_count": null,
   "id": "bdfede89",
   "metadata": {},
   "outputs": [],
   "source": [
    "new_arr = np.array([[12,13,14],[15,16,17]])\n",
    "print(new_arr)\n",
    "\n",
    "#dimension of array\n",
    "print(new_arr.ndim)\n",
    "\n",
    "#shape of array\n",
    "print(new_arr.shape)\n",
    "\n",
    "#total size\n",
    "print(new_arr.size)\n",
    "\n",
    "#size in bytes of each elemen\n",
    "print(new_arr.itemsize)\n",
    "\n",
    "#transpose of array\n",
    "print(new_arr.T)"
   ]
  },
  {
   "cell_type": "markdown",
   "id": "af8213c6",
   "metadata": {},
   "source": [
    "### Operations on Array"
   ]
  },
  {
   "cell_type": "code",
   "execution_count": null,
   "id": "37d1bd73",
   "metadata": {},
   "outputs": [],
   "source": [
    "a = np.array([1,2,3,4])\n",
    "b = np.array([5,6,7,8])\n",
    "\n",
    "# Addition\n",
    "print(a+b)\n",
    "\n",
    "#Subtraction\n",
    "print(a-b)\n",
    "\n",
    "#multiplication element wise\n",
    "print(a*b)\n",
    "\n",
    "# division of array \n",
    "print(a/b)\n",
    "\n",
    "#Exponention\n",
    "print(a ** 2)"
   ]
  },
  {
   "cell_type": "markdown",
   "id": "468e0bbf",
   "metadata": {},
   "source": [
    "### Comparison Operators\n"
   ]
  },
  {
   "cell_type": "code",
   "execution_count": null,
   "id": "ab4024df",
   "metadata": {},
   "outputs": [],
   "source": [
    "my_fav = np.array([12,3,4,5])\n",
    "print(my_fav > 2)\n",
    "print(my_fav == 2)\n"
   ]
  },
  {
   "cell_type": "markdown",
   "id": "57c2df97",
   "metadata": {},
   "source": [
    "### Aggeration Functions"
   ]
  },
  {
   "cell_type": "code",
   "execution_count": null,
   "id": "c6e88def",
   "metadata": {},
   "outputs": [],
   "source": [
    "print(np.min(my_fav))\n",
    "print(np.max(my_fav))\n",
    "print(np.median(my_fav))\n",
    "print(np.std(my_fav))\n",
    "print(np.mean(my_fav))\n"
   ]
  },
  {
   "cell_type": "markdown",
   "id": "bd73a4fe",
   "metadata": {},
   "source": [
    "### Dot Product"
   ]
  },
  {
   "cell_type": "code",
   "execution_count": null,
   "id": "7cbc6603",
   "metadata": {},
   "outputs": [],
   "source": [
    "a = np.array([[1,2],[3,4]])\n",
    "b = np.array([[5,6],[7,8]])\n",
    "\n",
    "# [\n",
    "#     (1*5)+(2*7)     (1*6)+(2*8)\n",
    "#     (3*5)+(4*7)     (3*6)+(4*8)\n",
    "# ]\n",
    "\n",
    "print(np.dot(a, b))"
   ]
  },
  {
   "cell_type": "markdown",
   "id": "ea4e0c3e",
   "metadata": {},
   "source": [
    "### BroadCasting (automatically expands dimensions)"
   ]
  },
  {
   "cell_type": "code",
   "execution_count": null,
   "id": "8a87e57f",
   "metadata": {},
   "outputs": [],
   "source": [
    "a = np.array([1, 2, 3])\n",
    "b = 2\n",
    "\n",
    "print(a + b)"
   ]
  },
  {
   "cell_type": "markdown",
   "id": "6cad9255",
   "metadata": {},
   "source": [
    "### Reshaping Arrays\n"
   ]
  },
  {
   "cell_type": "code",
   "execution_count": 23,
   "id": "9cce11fd",
   "metadata": {},
   "outputs": [
    {
     "name": "stdout",
     "output_type": "stream",
     "text": [
      "[[1 2 3]\n",
      " [4 5 6]]\n",
      "[1 2 3 4 5 6]\n",
      "[[1 2 3]\n",
      " [4 5 6]]\n",
      "[1 2 3 4 5 6]\n",
      "[[1 2 3]\n",
      " [4 5 6]]\n",
      "[1 2 3 4 5 6]\n"
     ]
    }
   ],
   "source": [
    "my_arr = np.array([1,2,3,4,5,6])\n",
    "reshaped_2d = my_arr.reshape(2,3)\n",
    "print(reshaped_2d)\n",
    "\n",
    "# Flatten array method 1\n",
    "flatten_arr = reshaped_2d.reshape(-1)\n",
    "print(flatten_arr)\n",
    "\n",
    "# Method 2\n",
    "my_arr = np.array([1,2,3,4,5,6])\n",
    "reshaped_2d = my_arr.reshape(2,3)\n",
    "print(reshaped_2d)\n",
    "\n",
    "# This method returns copy of array\n",
    "flatten_arr = reshaped_2d.flatten()\n",
    "print(flatten_arr)\n",
    "\n",
    "my_arr = np.array([1,2,3,4,5,6])\n",
    "reshaped_2d = my_arr.reshape(2,3)\n",
    "print(reshaped_2d)\n",
    "\n",
    "# returns view instead of copy\n",
    "reval_arr = reshaped_2d.ravel()\n",
    "print(reval_arr)\n",
    "\n",
    "\n"
   ]
  },
  {
   "cell_type": "markdown",
   "id": "2235b994",
   "metadata": {},
   "source": [
    "### Split array into equal size"
   ]
  },
  {
   "cell_type": "code",
   "execution_count": 21,
   "id": "08a3b4f8",
   "metadata": {},
   "outputs": [
    {
     "name": "stdout",
     "output_type": "stream",
     "text": [
      "[array([0, 1, 2, 3, 4]), array([5, 6, 7, 8, 9])]\n"
     ]
    }
   ],
   "source": [
    "arr = np.arange(10)\n",
    "split_arr = np.split(arr, 2)\n",
    "print(split_arr)"
   ]
  },
  {
   "cell_type": "markdown",
   "id": "0ffa110b",
   "metadata": {},
   "source": []
  }
 ],
 "metadata": {
  "kernelspec": {
   "display_name": "venv",
   "language": "python",
   "name": "python3"
  },
  "language_info": {
   "codemirror_mode": {
    "name": "ipython",
    "version": 3
   },
   "file_extension": ".py",
   "mimetype": "text/x-python",
   "name": "python",
   "nbconvert_exporter": "python",
   "pygments_lexer": "ipython3",
   "version": "3.13.1"
  }
 },
 "nbformat": 4,
 "nbformat_minor": 5
}
