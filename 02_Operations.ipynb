{
 "cells": [
  {
   "cell_type": "code",
   "execution_count": null,
   "id": "f804a213",
   "metadata": {},
   "outputs": [],
   "source": [
    "import numpy as np"
   ]
  },
  {
   "cell_type": "markdown",
   "id": "87446287",
   "metadata": {},
   "source": [
    "### 🔍 Array Indexing"
   ]
  },
  {
   "cell_type": "code",
   "execution_count": null,
   "id": "399ed42e",
   "metadata": {},
   "outputs": [],
   "source": [
    "arr = np.array([2,4,6,8,10])\n",
    "\n",
    "print('Simple Indexing ', arr[2])\n",
    "print('Negative Indexing ', arr[-1])\n",
    "print('Range Indexing ', arr[1:4])\n",
    "\n",
    "arr_2d = np.array(\n",
    "   [ [11,12,13,14],\n",
    "    [15,16,17,18],\n",
    "    [19,20,21,22],]\n",
    ")\n",
    "\n",
    "print('Specific Element 2D ', arr_2d[1,2])\n",
    "print('Entrie row ', arr_2d[1])\n",
    "print('Entrie Column ', arr_2d[:,1])"
   ]
  },
  {
   "cell_type": "markdown",
   "id": "3ede2f98",
   "metadata": {},
   "source": [
    "### ✂️ Slicing"
   ]
  },
  {
   "cell_type": "code",
   "execution_count": null,
   "id": "4833acdd",
   "metadata": {},
   "outputs": [],
   "source": [
    "arr = np.array([10, 20, 30, 40, 50])\n",
    "print('Simple Slicing',arr[1:4])\n",
    "\n",
    "arr_2d = np.array([[1, 2, 3], [4, 5, 6]])\n",
    "print('Slicing in 2D array ', arr_2d[:, 1:]) "
   ]
  },
  {
   "cell_type": "markdown",
   "id": "636a6859",
   "metadata": {},
   "source": [
    "### 🔢 Sorting Arrays\n",
    "\n"
   ]
  },
  {
   "cell_type": "code",
   "execution_count": 16,
   "id": "05ffa840",
   "metadata": {},
   "outputs": [
    {
     "name": "stdout",
     "output_type": "stream",
     "text": [
      "Sorted array  [ 2  3  5  7 21]\n",
      "Sort row-wise  [[1 3 9]\n",
      " [1 2 7]\n",
      " [2 3 6]]\n",
      "Sort column-wise  [[6 2 1]\n",
      " [7 3 1]\n",
      " [9 3 2]]\n"
     ]
    }
   ],
   "source": [
    "arr = np.array([5,3,21,7,2])\n",
    "\n",
    "print(\"Sorted array \", np.sort(arr))\n",
    "\n",
    "arr_2d = np.array([[9,3,1], [7,2,1],[6,3,2]])\n",
    "print('Sort row-wise ', np.sort(arr_2d, axis=1))\n",
    "print('Sort column-wise ', np.sort(arr_2d, axis=0))"
   ]
  },
  {
   "cell_type": "markdown",
   "id": "8e130510",
   "metadata": {},
   "source": [
    "### ▼ Filtering"
   ]
  },
  {
   "cell_type": "code",
   "execution_count": null,
   "id": "72f2f853",
   "metadata": {},
   "outputs": [
    {
     "name": "stdout",
     "output_type": "stream",
     "text": [
      "Simple filter [5 8]\n",
      "By Mask method  [5 8]\n"
     ]
    }
   ],
   "source": [
    "arr = np.array([1,2,3,2,5,8,4])\n",
    "\n",
    "print('Simple filter', arr[arr > 4])\n",
    "\n",
    "# using mask\n",
    "mask = arr > 4\n",
    "print('By Mask method ', arr[mask])"
   ]
  }
 ],
 "metadata": {
  "kernelspec": {
   "display_name": "venv",
   "language": "python",
   "name": "python3"
  },
  "language_info": {
   "codemirror_mode": {
    "name": "ipython",
    "version": 3
   },
   "file_extension": ".py",
   "mimetype": "text/x-python",
   "name": "python",
   "nbconvert_exporter": "python",
   "pygments_lexer": "ipython3",
   "version": "3.13.1"
  }
 },
 "nbformat": 4,
 "nbformat_minor": 5
}
