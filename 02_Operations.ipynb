{
 "cells": [
  {
   "cell_type": "code",
   "execution_count": null,
   "id": "f804a213",
   "metadata": {},
   "outputs": [],
   "source": [
    "import numpy as np"
   ]
  },
  {
   "cell_type": "markdown",
   "id": "87446287",
   "metadata": {},
   "source": [
    "### 🔍 Array Indexing"
   ]
  },
  {
   "cell_type": "code",
   "execution_count": null,
   "id": "399ed42e",
   "metadata": {},
   "outputs": [],
   "source": [
    "arr = np.array([2,4,6,8,10])\n",
    "\n",
    "print('Simple Indexing ', arr[2])\n",
    "print('Negative Indexing ', arr[-1])\n",
    "print('Range Indexing ', arr[1:4])\n",
    "\n",
    "arr_2d = np.array(\n",
    "   [ [11,12,13,14],\n",
    "    [15,16,17,18],\n",
    "    [19,20,21,22],]\n",
    ")\n",
    "\n",
    "print('Specific Element 2D ', arr_2d[1,2])\n",
    "print('Entrie row ', arr_2d[1])\n",
    "print('Entrie Column ', arr_2d[:,1])"
   ]
  },
  {
   "cell_type": "markdown",
   "id": "3ede2f98",
   "metadata": {},
   "source": [
    "### ✂️ Slicing"
   ]
  },
  {
   "cell_type": "code",
   "execution_count": 13,
   "id": "4833acdd",
   "metadata": {},
   "outputs": [
    {
     "name": "stdout",
     "output_type": "stream",
     "text": [
      "Simple Slicing [20 30 40]\n",
      "Slicing in 2D array  [[2 3]\n",
      " [5 6]]\n"
     ]
    }
   ],
   "source": [
    "arr = np.array([10, 20, 30, 40, 50])\n",
    "print('Simple Slicing',arr[1:4])\n",
    "\n",
    "arr_2d = np.array([[1, 2, 3], [4, 5, 6]])\n",
    "print('Slicing in 2D array ', arr_2d[:, 1:]) "
   ]
  }
 ],
 "metadata": {
  "kernelspec": {
   "display_name": "venv",
   "language": "python",
   "name": "python3"
  },
  "language_info": {
   "codemirror_mode": {
    "name": "ipython",
    "version": 3
   },
   "file_extension": ".py",
   "mimetype": "text/x-python",
   "name": "python",
   "nbconvert_exporter": "python",
   "pygments_lexer": "ipython3",
   "version": "3.13.1"
  }
 },
 "nbformat": 4,
 "nbformat_minor": 5
}
