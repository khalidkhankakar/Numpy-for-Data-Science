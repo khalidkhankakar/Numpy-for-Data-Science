{
 "cells": [
  {
   "cell_type": "code",
   "execution_count": 1,
   "id": "f804a213",
   "metadata": {},
   "outputs": [],
   "source": [
    "import numpy as np"
   ]
  },
  {
   "cell_type": "markdown",
   "id": "87446287",
   "metadata": {},
   "source": [
    "### 🔍 Array Indexing"
   ]
  },
  {
   "cell_type": "code",
   "execution_count": 12,
   "id": "399ed42e",
   "metadata": {},
   "outputs": [
    {
     "name": "stdout",
     "output_type": "stream",
     "text": [
      "Simple Indexing  6\n",
      "Negative Indexing  10\n",
      "Range Indexing  [4 6 8]\n",
      "Specific Element 2D  17\n",
      "Entrie row  [15 16 17 18]\n",
      "Entrie Column  [12 16 20]\n"
     ]
    }
   ],
   "source": [
    "arr = np.array([2,4,6,8,10])\n",
    "\n",
    "print('Simple Indexing ', arr[2])\n",
    "print('Negative Indexing ', arr[-1])\n",
    "print('Range Indexing ', arr[1:4])\n",
    "\n",
    "arr_2d = np.array(\n",
    "   [ [11,12,13,14],\n",
    "    [15,16,17,18],\n",
    "    [19,20,21,22],]\n",
    ")\n",
    "\n",
    "print('Specific Element 2D ', arr_2d[1,2])\n",
    "print('Entrie row ', arr_2d[1])\n",
    "print('Entrie Column ', arr_2d[:,1])"
   ]
  }
 ],
 "metadata": {
  "kernelspec": {
   "display_name": "venv",
   "language": "python",
   "name": "python3"
  },
  "language_info": {
   "codemirror_mode": {
    "name": "ipython",
    "version": 3
   },
   "file_extension": ".py",
   "mimetype": "text/x-python",
   "name": "python",
   "nbconvert_exporter": "python",
   "pygments_lexer": "ipython3",
   "version": "3.13.1"
  }
 },
 "nbformat": 4,
 "nbformat_minor": 5
}
