{
 "cells": [
  {
   "cell_type": "markdown",
   "id": "0f6a7e09",
   "metadata": {},
   "source": [
    "### Scenario based question in Numpy"
   ]
  },
  {
   "cell_type": "code",
   "execution_count": 1,
   "id": "ff804439",
   "metadata": {},
   "outputs": [],
   "source": [
    "import numpy as np"
   ]
  },
  {
   "cell_type": "markdown",
   "id": "bfcb9a1b",
   "metadata": {},
   "source": [
    "[Student ID, Math Score, English Score, Science Score, Gender (0=Male, 1=Female), Age]\n"
   ]
  },
  {
   "cell_type": "code",
   "execution_count": 2,
   "id": "a9b9746e",
   "metadata": {},
   "outputs": [],
   "source": [
    "# Sample dataset\n",
    "students = np.array([\n",
    "    [101, 78, 85, 92, 0, 17],\n",
    "    [102, 67, 76, 70, 1, 16],\n",
    "    [103, 90, 88, 94, 0, 18],\n",
    "    [104, 56, 64, 60, 1, 17],\n",
    "    [105, 80, 70, 75, 0, 16],\n",
    "    [106, 45, 50, 55, 1, 17],\n",
    "    [107, 88, 90, 85, 0, 18],\n",
    "    [108, 70, 60, 65, 1, 16],\n",
    "    [109, 60, 75, 70, 0, 17],\n",
    "    [110, 95, 92, 98, 1, 18]\n",
    "])\n"
   ]
  },
  {
   "cell_type": "markdown",
   "id": "852225b9",
   "metadata": {},
   "source": [
    "#### 📋 Questions to Perform on This Dataset\n"
   ]
  },
  {
   "cell_type": "code",
   "execution_count": 3,
   "id": "6cba0e15",
   "metadata": {},
   "outputs": [
    {
     "name": "stdout",
     "output_type": "stream",
     "text": [
      "Average score of math 72.9\n"
     ]
    }
   ],
   "source": [
    "# Find the average Math score.\n",
    "average_of_math_score = np.mean(students[:, 1])\n",
    "print('Average score of math',average_of_math_score)"
   ]
  },
  {
   "cell_type": "code",
   "execution_count": 4,
   "id": "2ab3c07f",
   "metadata": {},
   "outputs": [
    {
     "name": "stdout",
     "output_type": "stream",
     "text": [
      "Maximum score in science 98\n"
     ]
    }
   ],
   "source": [
    "# What is the maximum Science score?\n",
    "max_score_in_science = np.max(students[:, 3])\n",
    "print('Maximum score in science', max_score_in_science)"
   ]
  },
  {
   "cell_type": "code",
   "execution_count": 5,
   "id": "f6233917",
   "metadata": {},
   "outputs": [
    {
     "name": "stdout",
     "output_type": "stream",
     "text": [
      "Female students  [[102  67  76  70   1  16]\n",
      " [104  56  64  60   1  17]\n",
      " [106  45  50  55   1  17]\n",
      " [108  70  60  65   1  16]\n",
      " [110  95  92  98   1  18]]\n",
      "Female Students with minimum score  50\n"
     ]
    }
   ],
   "source": [
    "# Get the minimum English score for female students.\n",
    "mask = students[:,4] == 1\n",
    "female_students = students[mask]\n",
    "print('Female students ', female_students)\n",
    "\n",
    "min_score_female_english = min(female_students[:,2])\n",
    "print('Female Students with minimum score ',min_score_female_english)"
   ]
  },
  {
   "cell_type": "code",
   "execution_count": 6,
   "id": "55592dcb",
   "metadata": {},
   "outputs": [
    {
     "name": "stdout",
     "output_type": "stream",
     "text": [
      "Number of Male Students: 5\n",
      "Number of Female Students: 5\n"
     ]
    }
   ],
   "source": [
    "# Find the number of male and female students.\n",
    "female_gender_mask = students[:,4]==1\n",
    "male_gender_mask = students[:,4]==0\n",
    "\n",
    "male_gender_count = sum(male_gender_mask)\n",
    "female_gender_count = sum(female_gender_mask)\n",
    "\n",
    "print(\"Number of Male Students:\", male_gender_count)\n",
    "print(\"Number of Female Students:\", female_gender_count)"
   ]
  },
  {
   "cell_type": "markdown",
   "id": "cb7deca5",
   "metadata": {},
   "source": [
    "### Questions Filtering and Indexing"
   ]
  },
  {
   "cell_type": "code",
   "execution_count": 7,
   "id": "4ad331bc",
   "metadata": {},
   "outputs": [
    {
     "name": "stdout",
     "output_type": "stream",
     "text": [
      "Students above than 80  [[103  90  88  94   0  18]\n",
      " [107  88  90  85   0  18]\n",
      " [110  95  92  98   1  18]]\n"
     ]
    }
   ],
   "source": [
    "# Select all students who scored above 80 in Math.\n",
    "above_80 = np.where(students[:, 1] > 80)\n",
    "print('Students above than 80 ', students[above_80])"
   ]
  },
  {
   "cell_type": "code",
   "execution_count": 8,
   "id": "323f6b2f",
   "metadata": {},
   "outputs": [
    {
     "name": "stdout",
     "output_type": "stream",
     "text": [
      "Students age 18  [[103  90  88  94   0  18]\n",
      " [107  88  90  85   0  18]\n",
      " [110  95  92  98   1  18]]\n"
     ]
    }
   ],
   "source": [
    "# Get details of students aged 18.\n",
    "aged_18 = np.where(students[:, -1] == 18)\n",
    "print('Students age 18 ', students[aged_18])"
   ]
  },
  {
   "cell_type": "code",
   "execution_count": 9,
   "id": "daf123c0",
   "metadata": {},
   "outputs": [
    {
     "name": "stdout",
     "output_type": "stream",
     "text": [
      "[[103  90  88  94   0  18]\n",
      " [107  88  90  85   0  18]\n",
      " [110  95  92  98   1  18]]\n"
     ]
    }
   ],
   "source": [
    "# Find students with average score (Math+Eng+Sci)/3 > 85.\n",
    "mean_of_students = np.where(np.mean(students[:, 1:4], axis=1) > 85)\n",
    "\n",
    "print(students[mean_of_students])"
   ]
  },
  {
   "cell_type": "markdown",
   "id": "5757445e",
   "metadata": {},
   "source": [
    "### Advance question\n"
   ]
  },
  {
   "cell_type": "code",
   "execution_count": 10,
   "id": "53c8ee84",
   "metadata": {},
   "outputs": [
    {
     "name": "stdout",
     "output_type": "stream",
     "text": [
      "Adding the new column into student  [[101  78  85  92   0  17 255]\n",
      " [102  67  76  70   1  16 213]\n",
      " [103  90  88  94   0  18 272]\n",
      " [104  56  64  60   1  17 180]\n",
      " [105  80  70  75   0  16 225]\n",
      " [106  45  50  55   1  17 150]\n",
      " [107  88  90  85   0  18 263]\n",
      " [108  70  60  65   1  16 195]\n",
      " [109  60  75  70   0  17 205]\n",
      " [110  95  92  98   1  18 285]]\n"
     ]
    }
   ],
   "source": [
    "# Add a new column with total score for each student.\n",
    "total_score = np.sum(students[:, 1:4], axis=1)\n",
    "\n",
    "add_new_column = np.column_stack((students,total_score))\n",
    "print('Adding the new column into student ', add_new_column)"
   ]
  },
  {
   "cell_type": "code",
   "execution_count": 11,
   "id": "7ff8dd0a",
   "metadata": {},
   "outputs": [
    {
     "name": "stdout",
     "output_type": "stream",
     "text": [
      "Sorted dataset by total score (descending):\n",
      "[[110  95  92  98   1  18]\n",
      " [103  90  88  94   0  18]\n",
      " [107  88  90  85   0  18]\n",
      " [101  78  85  92   0  17]\n",
      " [105  80  70  75   0  16]\n",
      " [102  67  76  70   1  16]\n",
      " [109  60  75  70   0  17]\n",
      " [108  70  60  65   1  16]\n",
      " [104  56  64  60   1  17]\n",
      " [106  45  50  55   1  17]]\n"
     ]
    }
   ],
   "source": [
    "# Sort the dataset by total score descending.\n",
    "total_scores = students[:, 1] + students[:, 2] + students[:, 3]\n",
    "\n",
    "# Step 2: Get sorted indices in descending order of total score\n",
    "sorted_indices = np.argsort(-total_scores)  # negative for descending\n",
    "\n",
    "# Step 3: Sort the dataset using those indices\n",
    "sorted_students = students[sorted_indices]\n",
    "\n",
    "print(\"Sorted dataset by total score (descending):\")\n",
    "print(sorted_students)"
   ]
  },
  {
   "cell_type": "code",
   "execution_count": 12,
   "id": "2f76add7",
   "metadata": {},
   "outputs": [
    {
     "data": {
      "text/plain": [
       "array(['Pass', 'Pass', 'Pass', 'Fail', 'Pass', 'Fail', 'Pass', 'Pass',\n",
       "       'Pass', 'Pass'], dtype='<U4')"
      ]
     },
     "execution_count": 12,
     "metadata": {},
     "output_type": "execute_result"
    }
   ],
   "source": [
    "average_score = np.mean(students[:, 1:4], axis=1)\n",
    "pass_and_fail = np.where(average_score > 60, 'Pass', 'Fail')\n",
    "pass_and_fail"
   ]
  },
  {
   "cell_type": "markdown",
   "id": "0f546f17",
   "metadata": {},
   "source": [
    "### Manipulation"
   ]
  },
  {
   "cell_type": "code",
   "execution_count": 13,
   "id": "fa474d85",
   "metadata": {},
   "outputs": [
    {
     "name": "stdout",
     "output_type": "stream",
     "text": [
      "[[101  78  85  92   0  17]\n",
      " [102  67  76  70   1  16]\n",
      " [103  90  88  94   0  18]\n",
      " [104  56  64  60   1  17]\n",
      " [105  80  70  75   0  16]\n",
      " [106  45  50  55   1  17]\n",
      " [107  88  90  85   0  18]\n",
      " [108  70  60  65   1  16]\n",
      " [109  60  75  70   0  17]\n",
      " [110  95  92  98   1  18]\n",
      " [117  34  56  78   0  12]]\n"
     ]
    }
   ],
   "source": [
    "# Add a new student entry to the dataset.\n",
    "new_student = np.array([117,34,56,78,0, 12])\n",
    "all_students = np.vstack((students, new_student))\n",
    "print(all_students)"
   ]
  },
  {
   "cell_type": "code",
   "execution_count": 14,
   "id": "e5c39b05",
   "metadata": {},
   "outputs": [
    {
     "name": "stdout",
     "output_type": "stream",
     "text": [
      "[[101  78  85  92   0  17]\n",
      " [102  67  76  70   1  16]\n",
      " [103  90  88  94   0  18]\n",
      " [104  56  64  60   1  17]\n",
      " [105  80  70  75   0  16]\n",
      " [107  88  90  85   0  18]\n",
      " [108  70  60  65   1  16]\n",
      " [109  60  75  70   0  17]\n",
      " [110  95  92  98   1  18]]\n"
     ]
    }
   ],
   "source": [
    "# Delete the row for the student with ID = 106.\n",
    "student_106 = np.where(students[:, 0] == 106)\n",
    "deleted_student = np.delete(students, student_106, axis=0)\n",
    "print(deleted_student)"
   ]
  },
  {
   "cell_type": "code",
   "execution_count": 15,
   "id": "4d60b46e",
   "metadata": {},
   "outputs": [
    {
     "name": "stdout",
     "output_type": "stream",
     "text": [
      "[[78 92]\n",
      " [67 70]\n",
      " [90 94]\n",
      " [56 60]\n",
      " [80 75]\n",
      " [45 55]\n",
      " [88 85]\n",
      " [70 65]\n",
      " [60 70]\n",
      " [95 98]]\n"
     ]
    }
   ],
   "source": [
    "# Extract only the Math and Science columns.\n",
    "print(students[:, [1,3]])"
   ]
  },
  {
   "cell_type": "code",
   "execution_count": 16,
   "id": "4c555226",
   "metadata": {},
   "outputs": [
    {
     "name": "stdout",
     "output_type": "stream",
     "text": [
      "[[101 102 103 104 105 106 107 108 109 110]\n",
      " [ 78  67  90  56  80  45  88  70  60  95]\n",
      " [ 85  76  88  64  70  50  90  60  75  92]\n",
      " [ 92  70  94  60  75  55  85  65  70  98]\n",
      " [  0   1   0   1   0   1   0   1   0   1]\n",
      " [ 17  16  18  17  16  17  18  16  17  18]]\n"
     ]
    }
   ],
   "source": [
    "# Tranpose of students\n",
    "print(students.T)"
   ]
  }
 ],
 "metadata": {
  "kernelspec": {
   "display_name": "venv",
   "language": "python",
   "name": "python3"
  },
  "language_info": {
   "codemirror_mode": {
    "name": "ipython",
    "version": 3
   },
   "file_extension": ".py",
   "mimetype": "text/x-python",
   "name": "python",
   "nbconvert_exporter": "python",
   "pygments_lexer": "ipython3",
   "version": "3.13.1"
  }
 },
 "nbformat": 4,
 "nbformat_minor": 5
}
