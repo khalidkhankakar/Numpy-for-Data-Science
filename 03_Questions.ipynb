{
 "cells": [
  {
   "cell_type": "markdown",
   "id": "0f6a7e09",
   "metadata": {},
   "source": [
    "### Scenario based question in Numpy"
   ]
  },
  {
   "cell_type": "code",
   "execution_count": 1,
   "id": "ff804439",
   "metadata": {},
   "outputs": [],
   "source": [
    "import numpy as np"
   ]
  },
  {
   "cell_type": "markdown",
   "id": "bfcb9a1b",
   "metadata": {},
   "source": [
    "[Student ID, Math Score, English Score, Science Score, Gender (0=Male, 1=Female), Age]\n"
   ]
  },
  {
   "cell_type": "code",
   "execution_count": 2,
   "id": "a9b9746e",
   "metadata": {},
   "outputs": [],
   "source": [
    "# Sample dataset\n",
    "students = np.array([\n",
    "    [101, 78, 85, 92, 0, 17],\n",
    "    [102, 67, 76, 70, 1, 16],\n",
    "    [103, 90, 88, 94, 0, 18],\n",
    "    [104, 56, 64, 60, 1, 17],\n",
    "    [105, 80, 70, 75, 0, 16],\n",
    "    [106, 45, 50, 55, 1, 17],\n",
    "    [107, 88, 90, 85, 0, 18],\n",
    "    [108, 70, 60, 65, 1, 16],\n",
    "    [109, 60, 75, 70, 0, 17],\n",
    "    [110, 95, 92, 98, 1, 18]\n",
    "])\n"
   ]
  }
 ],
 "metadata": {
  "kernelspec": {
   "display_name": "venv",
   "language": "python",
   "name": "python3"
  },
  "language_info": {
   "codemirror_mode": {
    "name": "ipython",
    "version": 3
   },
   "file_extension": ".py",
   "mimetype": "text/x-python",
   "name": "python",
   "nbconvert_exporter": "python",
   "pygments_lexer": "ipython3",
   "version": "3.13.1"
  }
 },
 "nbformat": 4,
 "nbformat_minor": 5
}
