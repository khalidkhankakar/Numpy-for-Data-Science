{
 "cells": [
  {
   "cell_type": "markdown",
   "id": "0f6a7e09",
   "metadata": {},
   "source": [
    "### Scenario based question in Numpy"
   ]
  },
  {
   "cell_type": "code",
   "execution_count": 28,
   "id": "ff804439",
   "metadata": {},
   "outputs": [],
   "source": [
    "import numpy as np"
   ]
  },
  {
   "cell_type": "markdown",
   "id": "bfcb9a1b",
   "metadata": {},
   "source": [
    "[Student ID, Math Score, English Score, Science Score, Gender (0=Male, 1=Female), Age]\n"
   ]
  },
  {
   "cell_type": "code",
   "execution_count": 29,
   "id": "a9b9746e",
   "metadata": {},
   "outputs": [],
   "source": [
    "# Sample dataset\n",
    "students = np.array([\n",
    "    [101, 78, 85, 92, 0, 17],\n",
    "    [102, 67, 76, 70, 1, 16],\n",
    "    [103, 90, 88, 94, 0, 18],\n",
    "    [104, 56, 64, 60, 1, 17],\n",
    "    [105, 80, 70, 75, 0, 16],\n",
    "    [106, 45, 50, 55, 1, 17],\n",
    "    [107, 88, 90, 85, 0, 18],\n",
    "    [108, 70, 60, 65, 1, 16],\n",
    "    [109, 60, 75, 70, 0, 17],\n",
    "    [110, 95, 92, 98, 1, 18]\n",
    "])\n"
   ]
  },
  {
   "cell_type": "markdown",
   "id": "852225b9",
   "metadata": {},
   "source": [
    "#### 📋 Questions to Perform on This Dataset\n"
   ]
  },
  {
   "cell_type": "code",
   "execution_count": 30,
   "id": "6cba0e15",
   "metadata": {},
   "outputs": [
    {
     "name": "stdout",
     "output_type": "stream",
     "text": [
      "Average score of math 72.9\n"
     ]
    }
   ],
   "source": [
    "# Find the average Math score.\n",
    "average_of_math_score = np.mean(students[:, 1])\n",
    "print('Average score of math',average_of_math_score)"
   ]
  },
  {
   "cell_type": "code",
   "execution_count": 31,
   "id": "2ab3c07f",
   "metadata": {},
   "outputs": [
    {
     "name": "stdout",
     "output_type": "stream",
     "text": [
      "Maximum score in science 98\n"
     ]
    }
   ],
   "source": [
    "# What is the maximum Science score?\n",
    "max_score_in_science = np.max(students[:, 3])\n",
    "print('Maximum score in science', max_score_in_science)"
   ]
  },
  {
   "cell_type": "code",
   "execution_count": 32,
   "id": "f6233917",
   "metadata": {},
   "outputs": [
    {
     "name": "stdout",
     "output_type": "stream",
     "text": [
      "Female students  [[102  67  76  70   1  16]\n",
      " [104  56  64  60   1  17]\n",
      " [106  45  50  55   1  17]\n",
      " [108  70  60  65   1  16]\n",
      " [110  95  92  98   1  18]]\n",
      "Female Students with minimum score  50\n"
     ]
    }
   ],
   "source": [
    "# Get the minimum English score for female students.\n",
    "mask = students[:,4] == 1\n",
    "female_students = students[mask]\n",
    "print('Female students ', female_students)\n",
    "\n",
    "min_score_female_english = min(female_students[:,2])\n",
    "print('Female Students with minimum score ',min_score_female_english)"
   ]
  },
  {
   "cell_type": "code",
   "execution_count": 33,
   "id": "55592dcb",
   "metadata": {},
   "outputs": [
    {
     "name": "stdout",
     "output_type": "stream",
     "text": [
      "Number of Male Students: 5\n",
      "Number of Female Students: 5\n"
     ]
    }
   ],
   "source": [
    "# Find the number of male and female students.\n",
    "female_gender_mask = students[:,4]==1\n",
    "male_gender_mask = students[:,4]==0\n",
    "\n",
    "male_gender_count = sum(male_gender_mask)\n",
    "female_gender_count = sum(female_gender_mask)\n",
    "\n",
    "print(\"Number of Male Students:\", male_gender_count)\n",
    "print(\"Number of Female Students:\", female_gender_count)"
   ]
  },
  {
   "cell_type": "markdown",
   "id": "cb7deca5",
   "metadata": {},
   "source": [
    "### Questions Filtering and Indexing"
   ]
  },
  {
   "cell_type": "code",
   "execution_count": 34,
   "id": "4ad331bc",
   "metadata": {},
   "outputs": [
    {
     "name": "stdout",
     "output_type": "stream",
     "text": [
      "Students above than 80  [[103  90  88  94   0  18]\n",
      " [107  88  90  85   0  18]\n",
      " [110  95  92  98   1  18]]\n"
     ]
    }
   ],
   "source": [
    "# Select all students who scored above 80 in Math.\n",
    "above_80 = np.where(students[:, 1] > 80)\n",
    "print('Students above than 80 ', students[above_80])"
   ]
  },
  {
   "cell_type": "code",
   "execution_count": 35,
   "id": "323f6b2f",
   "metadata": {},
   "outputs": [
    {
     "name": "stdout",
     "output_type": "stream",
     "text": [
      "Students age 18  [[103  90  88  94   0  18]\n",
      " [107  88  90  85   0  18]\n",
      " [110  95  92  98   1  18]]\n"
     ]
    }
   ],
   "source": [
    "# Get details of students aged 18.\n",
    "aged_18 = np.where(students[:, -1] == 18)\n",
    "print('Students age 18 ', students[aged_18])"
   ]
  },
  {
   "cell_type": "code",
   "execution_count": 36,
   "id": "daf123c0",
   "metadata": {},
   "outputs": [
    {
     "name": "stdout",
     "output_type": "stream",
     "text": [
      "[[103  90  88  94   0  18]\n",
      " [107  88  90  85   0  18]\n",
      " [110  95  92  98   1  18]]\n"
     ]
    }
   ],
   "source": [
    "# Find students with average score (Math+Eng+Sci)/3 > 85.\n",
    "mean_of_students = np.where(np.mean(students[:, 1:4], axis=1) > 85)\n",
    "\n",
    "print(students[mean_of_students])"
   ]
  }
 ],
 "metadata": {
  "kernelspec": {
   "display_name": "venv",
   "language": "python",
   "name": "python3"
  },
  "language_info": {
   "codemirror_mode": {
    "name": "ipython",
    "version": 3
   },
   "file_extension": ".py",
   "mimetype": "text/x-python",
   "name": "python",
   "nbconvert_exporter": "python",
   "pygments_lexer": "ipython3",
   "version": "3.13.1"
  }
 },
 "nbformat": 4,
 "nbformat_minor": 5
}
