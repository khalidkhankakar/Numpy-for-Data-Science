{
 "cells": [
  {
   "cell_type": "markdown",
   "id": "d351ac0c",
   "metadata": {},
   "source": [
    "### Images in Numpy"
   ]
  },
  {
   "cell_type": "code",
   "execution_count": 1,
   "id": "5a2ef7f9",
   "metadata": {},
   "outputs": [],
   "source": [
    "import numpy as np\n",
    "import matplotlib.pyplot as plt"
   ]
  },
  {
   "cell_type": "markdown",
   "id": "9eb3aa69",
   "metadata": {},
   "source": [
    "### Save Numpy image format"
   ]
  },
  {
   "cell_type": "code",
   "execution_count": 5,
   "id": "b7b46391",
   "metadata": {},
   "outputs": [
    {
     "name": "stdout",
     "output_type": "stream",
     "text": [
      "[[0. 0. 0. 0.]\n",
      " [0. 0. 0. 0.]\n",
      " [0. 0. 0. 0.]]\n"
     ]
    }
   ],
   "source": [
    "zeros = np.zeros((3,4))\n",
    "print(zeros)\n",
    "\n",
    "# Save .npy image\n",
    "np.save('Zeros.npy',zeros)"
   ]
  },
  {
   "cell_type": "markdown",
   "id": "0be489ef",
   "metadata": {},
   "source": [
    "### Loading the Numpy Images"
   ]
  },
  {
   "cell_type": "code",
   "execution_count": 7,
   "id": "4a1446b6",
   "metadata": {},
   "outputs": [
    {
     "name": "stdout",
     "output_type": "stream",
     "text": [
      "[[0. 0. 0. 0.]\n",
      " [0. 0. 0. 0.]\n",
      " [0. 0. 0. 0.]]\n"
     ]
    }
   ],
   "source": [
    "numpy_logo = np.load(\"Zeros.npy\")\n",
    "print(numpy_logo)"
   ]
  },
  {
   "cell_type": "markdown",
   "id": "18fe2bec",
   "metadata": {},
   "source": [
    "### Show Numpy Image in Matplotlib"
   ]
  },
  {
   "cell_type": "code",
   "execution_count": null,
   "id": "dee8ce6b",
   "metadata": {},
   "outputs": [],
   "source": []
  }
 ],
 "metadata": {
  "kernelspec": {
   "display_name": "venv",
   "language": "python",
   "name": "python3"
  },
  "language_info": {
   "codemirror_mode": {
    "name": "ipython",
    "version": 3
   },
   "file_extension": ".py",
   "mimetype": "text/x-python",
   "name": "python",
   "nbconvert_exporter": "python",
   "pygments_lexer": "ipython3",
   "version": "3.13.1"
  }
 },
 "nbformat": 4,
 "nbformat_minor": 5
}
