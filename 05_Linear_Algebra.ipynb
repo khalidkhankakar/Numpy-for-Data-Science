{
 "cells": [
  {
   "cell_type": "markdown",
   "id": "25f65992",
   "metadata": {},
   "source": [
    "#### Basic Linear Algebra Operations "
   ]
  },
  {
   "cell_type": "code",
   "execution_count": 2,
   "id": "36c31355",
   "metadata": {},
   "outputs": [],
   "source": [
    "import numpy as np"
   ]
  },
  {
   "cell_type": "markdown",
   "id": "d7e82c80",
   "metadata": {},
   "source": [
    "- Matrix Multiplication"
   ]
  },
  {
   "cell_type": "code",
   "execution_count": 3,
   "id": "4ee526cc",
   "metadata": {},
   "outputs": [
    {
     "name": "stdout",
     "output_type": "stream",
     "text": [
      "Matrix Multiplication [[10 15]\n",
      " [15 25]]\n"
     ]
    }
   ],
   "source": [
    "A = np.array([\n",
    "    [1,3],\n",
    "    [3,4]\n",
    "])\n",
    "\n",
    "B = np.array([\n",
    "    [1,3],\n",
    "    [3,4]\n",
    "])\n",
    "\n",
    "result = np.matmul(A, B) # or A @ B\n",
    "print('Matrix Multiplication', result)"
   ]
  },
  {
   "cell_type": "markdown",
   "id": "5ea05c6d",
   "metadata": {},
   "source": [
    "- Dot Product"
   ]
  },
  {
   "cell_type": "code",
   "execution_count": 4,
   "id": "15e5493e",
   "metadata": {},
   "outputs": [
    {
     "name": "stdout",
     "output_type": "stream",
     "text": [
      "Dot Product: 11\n"
     ]
    }
   ],
   "source": [
    "v1 = np.array([1, 2])\n",
    "v2 = np.array([3, 4])\n",
    "\n",
    "dot = np.dot(v1, v2)\n",
    "print(\"Dot Product:\", dot)"
   ]
  },
  {
   "cell_type": "markdown",
   "id": "ac807f98",
   "metadata": {},
   "source": [
    "- Transpose of Matrix"
   ]
  },
  {
   "cell_type": "code",
   "execution_count": 5,
   "id": "90d13569",
   "metadata": {},
   "outputs": [
    {
     "name": "stdout",
     "output_type": "stream",
     "text": [
      "Transpose of A:\n",
      " [[1 3]\n",
      " [3 4]]\n"
     ]
    }
   ],
   "source": [
    "print(\"Transpose of A:\\n\", A.T)"
   ]
  },
  {
   "cell_type": "markdown",
   "id": "c35a1ea6",
   "metadata": {},
   "source": []
  }
 ],
 "metadata": {
  "kernelspec": {
   "display_name": "venv",
   "language": "python",
   "name": "python3"
  },
  "language_info": {
   "codemirror_mode": {
    "name": "ipython",
    "version": 3
   },
   "file_extension": ".py",
   "mimetype": "text/x-python",
   "name": "python",
   "nbconvert_exporter": "python",
   "pygments_lexer": "ipython3",
   "version": "3.13.1"
  }
 },
 "nbformat": 4,
 "nbformat_minor": 5
}
