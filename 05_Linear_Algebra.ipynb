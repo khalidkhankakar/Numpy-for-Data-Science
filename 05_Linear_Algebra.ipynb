{
 "cells": [
  {
   "cell_type": "markdown",
   "id": "25f65992",
   "metadata": {},
   "source": [
    "#### Basic Linear Algebra Operations "
   ]
  },
  {
   "cell_type": "code",
   "execution_count": 1,
   "id": "36c31355",
   "metadata": {},
   "outputs": [],
   "source": [
    "import numpy as np"
   ]
  },
  {
   "cell_type": "markdown",
   "id": "d7e82c80",
   "metadata": {},
   "source": [
    "- Matrix Multiplication"
   ]
  },
  {
   "cell_type": "code",
   "execution_count": 2,
   "id": "4ee526cc",
   "metadata": {},
   "outputs": [
    {
     "name": "stdout",
     "output_type": "stream",
     "text": [
      "Matrix Multiplication [[10 15]\n",
      " [15 25]]\n"
     ]
    }
   ],
   "source": [
    "A = np.array([\n",
    "    [1,3],\n",
    "    [3,4]\n",
    "])\n",
    "\n",
    "B = np.array([\n",
    "    [1,3],\n",
    "    [3,4]\n",
    "])\n",
    "\n",
    "result = np.matmul(A, B) # or A @ B\n",
    "print('Matrix Multiplication', result)"
   ]
  },
  {
   "cell_type": "markdown",
   "id": "5ea05c6d",
   "metadata": {},
   "source": [
    "- Dot Product"
   ]
  },
  {
   "cell_type": "code",
   "execution_count": 3,
   "id": "15e5493e",
   "metadata": {},
   "outputs": [
    {
     "name": "stdout",
     "output_type": "stream",
     "text": [
      "Dot Product: 11\n"
     ]
    }
   ],
   "source": [
    "v1 = np.array([1, 2])\n",
    "v2 = np.array([3, 4])\n",
    "\n",
    "dot = np.dot(v1, v2)\n",
    "print(\"Dot Product:\", dot)"
   ]
  },
  {
   "cell_type": "markdown",
   "id": "ac807f98",
   "metadata": {},
   "source": [
    "- Transpose of Matrix"
   ]
  },
  {
   "cell_type": "code",
   "execution_count": 4,
   "id": "90d13569",
   "metadata": {},
   "outputs": [
    {
     "name": "stdout",
     "output_type": "stream",
     "text": [
      "Transpose of A:\n",
      " [[1 3]\n",
      " [3 4]]\n"
     ]
    }
   ],
   "source": [
    "print(\"Transpose of A:\\n\", A.T)"
   ]
  },
  {
   "cell_type": "markdown",
   "id": "bcade60a",
   "metadata": {},
   "source": [
    "- Determinant"
   ]
  },
  {
   "cell_type": "code",
   "execution_count": 5,
   "id": "4e307f0d",
   "metadata": {},
   "outputs": [
    {
     "name": "stdout",
     "output_type": "stream",
     "text": [
      "Determinant of Matrix A -5.000000000000001\n"
     ]
    }
   ],
   "source": [
    "det_A = np.linalg.det(A)\n",
    "print('Determinant of Matrix A', det_A)"
   ]
  },
  {
   "cell_type": "markdown",
   "id": "c640fdfd",
   "metadata": {},
   "source": [
    "- Inverse of Matrix"
   ]
  },
  {
   "cell_type": "code",
   "execution_count": 6,
   "id": "9c07631b",
   "metadata": {},
   "outputs": [
    {
     "name": "stdout",
     "output_type": "stream",
     "text": [
      "Inverse of Matrix [[-0.8  0.6]\n",
      " [ 0.6 -0.2]]\n"
     ]
    }
   ],
   "source": [
    "inv_A = np.linalg.inv(A)\n",
    "print('Inverse of Matrix', inv_A)"
   ]
  },
  {
   "cell_type": "markdown",
   "id": "bdad3195",
   "metadata": {},
   "source": [
    "- Solve Linear System (Ax = b)"
   ]
  },
  {
   "cell_type": "code",
   "execution_count": 7,
   "id": "0abad12a",
   "metadata": {},
   "outputs": [
    {
     "name": "stdout",
     "output_type": "stream",
     "text": [
      "Solution x: [2.2 3.6]\n"
     ]
    }
   ],
   "source": [
    "A = np.array([[2, 1],\n",
    "              [1, 3]])\n",
    "\n",
    "b = np.array([8, 13])\n",
    "\n",
    "x = np.linalg.solve(A, b)\n",
    "print(\"Solution x:\", x)"
   ]
  }
 ],
 "metadata": {
  "kernelspec": {
   "display_name": "venv",
   "language": "python",
   "name": "python3"
  },
  "language_info": {
   "codemirror_mode": {
    "name": "ipython",
    "version": 3
   },
   "file_extension": ".py",
   "mimetype": "text/x-python",
   "name": "python",
   "nbconvert_exporter": "python",
   "pygments_lexer": "ipython3",
   "version": "3.13.1"
  }
 },
 "nbformat": 4,
 "nbformat_minor": 5
}
