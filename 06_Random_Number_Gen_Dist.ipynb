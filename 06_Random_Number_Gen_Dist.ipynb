{
 "cells": [
  {
   "cell_type": "markdown",
   "id": "f5846950",
   "metadata": {},
   "source": [
    "#### Generate Random Numbers"
   ]
  },
  {
   "cell_type": "code",
   "execution_count": 1,
   "id": "8f294cfe",
   "metadata": {},
   "outputs": [],
   "source": [
    "import numpy as np"
   ]
  },
  {
   "cell_type": "code",
   "execution_count": 2,
   "id": "d6726a97",
   "metadata": {},
   "outputs": [
    {
     "name": "stdout",
     "output_type": "stream",
     "text": [
      "5 random numbers  [8 6 6 8 6]\n"
     ]
    }
   ],
   "source": [
    "# 5 random b/w 0 to 9\n",
    "rand_int = np.random.randint(0, 9, size=5)\n",
    "print(\"5 random numbers \", rand_int)"
   ]
  },
  {
   "cell_type": "code",
   "execution_count": 3,
   "id": "b54b3eec",
   "metadata": {},
   "outputs": [
    {
     "name": "stdout",
     "output_type": "stream",
     "text": [
      "Random floats b/w 0 to 1 [0.3632194  0.56545089 0.70820674 0.03594474 0.6361037 ]\n"
     ]
    }
   ],
   "source": [
    "# Generate 5 number b/w 0 to 1\n",
    "rand_floats = np.random.rand(5)\n",
    "print('Random floats b/w 0 to 1', rand_floats)"
   ]
  },
  {
   "cell_type": "code",
   "execution_count": 4,
   "id": "4e59353e",
   "metadata": {},
   "outputs": [
    {
     "name": "stdout",
     "output_type": "stream",
     "text": [
      "Random Normal Distribution [107.40170943 101.14308664  96.51944568  90.38377955 110.6595893\n",
      " 122.28111499 115.52995361  97.25912075  93.81870475  82.46662768]\n"
     ]
    }
   ],
   "source": [
    "# Random Normal Distribution\n",
    "# Mean = 0, Std Dev = 1, size = 10\n",
    "normal_dist = np.random.normal(100, 14, 10)\n",
    "print('Random Normal Distribution', normal_dist)"
   ]
  },
  {
   "cell_type": "code",
   "execution_count": 5,
   "id": "2ba8692a",
   "metadata": {},
   "outputs": [
    {
     "name": "stdout",
     "output_type": "stream",
     "text": [
      "Uniform Distribution: [11.3513005  10.31154323 13.22493189 10.19698171 18.03757558]\n"
     ]
    }
   ],
   "source": [
    "# Uniform distribution between 10 and 20\n",
    "uniform_dist = np.random.uniform(10, 20, size=5)\n",
    "print(\"Uniform Distribution:\", uniform_dist)"
   ]
  },
  {
   "cell_type": "code",
   "execution_count": 6,
   "id": "cf0e87f5",
   "metadata": {},
   "outputs": [
    {
     "name": "stdout",
     "output_type": "stream",
     "text": [
      "Random Choices: [10 40 20]\n"
     ]
    }
   ],
   "source": [
    "choices = np.random.choice([10, 20, 30, 40, 50], size=3)\n",
    "print(\"Random Choices:\", choices)"
   ]
  },
  {
   "cell_type": "markdown",
   "id": "c4b5c6fb",
   "metadata": {},
   "source": [
    "#### Binomial Distribution"
   ]
  },
  {
   "cell_type": "code",
   "execution_count": 7,
   "id": "910b16f9",
   "metadata": {},
   "outputs": [
    {
     "name": "stdout",
     "output_type": "stream",
     "text": [
      "Binomial: [5 5 3 4 4]\n"
     ]
    }
   ],
   "source": [
    "binomial = np.random.binomial(10, 0.5, 5)\n",
    "print(\"Binomial:\", binomial)"
   ]
  },
  {
   "cell_type": "code",
   "execution_count": null,
   "id": "99269802",
   "metadata": {},
   "outputs": [],
   "source": []
  }
 ],
 "metadata": {
  "kernelspec": {
   "display_name": "venv",
   "language": "python",
   "name": "python3"
  },
  "language_info": {
   "codemirror_mode": {
    "name": "ipython",
    "version": 3
   },
   "file_extension": ".py",
   "mimetype": "text/x-python",
   "name": "python",
   "nbconvert_exporter": "python",
   "pygments_lexer": "ipython3",
   "version": "3.13.1"
  }
 },
 "nbformat": 4,
 "nbformat_minor": 5
}
