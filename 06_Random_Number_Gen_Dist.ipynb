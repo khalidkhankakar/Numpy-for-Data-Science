{
 "cells": [
  {
   "cell_type": "markdown",
   "id": "f5846950",
   "metadata": {},
   "source": [
    "#### Generate Random Numbers"
   ]
  },
  {
   "cell_type": "code",
   "execution_count": 14,
   "id": "8f294cfe",
   "metadata": {},
   "outputs": [],
   "source": [
    "import numpy as np"
   ]
  },
  {
   "cell_type": "code",
   "execution_count": 15,
   "id": "d6726a97",
   "metadata": {},
   "outputs": [
    {
     "name": "stdout",
     "output_type": "stream",
     "text": [
      "5 random numbers  [6 0 2 4 0]\n"
     ]
    }
   ],
   "source": [
    "# 5 random b/w 0 to 9\n",
    "rand_int = np.random.randint(0, 9, size=5)\n",
    "print(\"5 random numbers \", rand_int)"
   ]
  },
  {
   "cell_type": "code",
   "execution_count": 16,
   "id": "b54b3eec",
   "metadata": {},
   "outputs": [
    {
     "name": "stdout",
     "output_type": "stream",
     "text": [
      "Random floats b/w 0 to 1 [0.53945475 0.98683658 0.21588841 0.61399791 0.75690074]\n"
     ]
    }
   ],
   "source": [
    "# Generate 5 number b/w 0 to 1\n",
    "rand_floats = np.random.rand(5)\n",
    "print('Random floats b/w 0 to 1', rand_floats)"
   ]
  },
  {
   "cell_type": "code",
   "execution_count": 17,
   "id": "4e59353e",
   "metadata": {},
   "outputs": [
    {
     "name": "stdout",
     "output_type": "stream",
     "text": [
      "Random Normal Distribution [112.67892261 101.18114821  72.55610321  92.22918248  84.3268943\n",
      " 103.03071878 120.57603711 108.08332056  90.24903263  92.54916833]\n"
     ]
    }
   ],
   "source": [
    "# Random Normal Distribution\n",
    "# Mean = 0, Std Dev = 1, size = 10\n",
    "normal_dist = np.random.normal(100, 14, 10)\n",
    "print('Random Normal Distribution', normal_dist)"
   ]
  },
  {
   "cell_type": "code",
   "execution_count": 18,
   "id": "2ba8692a",
   "metadata": {},
   "outputs": [
    {
     "name": "stdout",
     "output_type": "stream",
     "text": [
      "Uniform Distribution: [18.62767975 11.5832797  13.70994997 15.76095354 18.11304585]\n"
     ]
    }
   ],
   "source": [
    "# Uniform distribution between 10 and 20\n",
    "uniform_dist = np.random.uniform(10, 20, size=5)\n",
    "print(\"Uniform Distribution:\", uniform_dist)"
   ]
  },
  {
   "cell_type": "code",
   "execution_count": 19,
   "id": "cf0e87f5",
   "metadata": {},
   "outputs": [
    {
     "name": "stdout",
     "output_type": "stream",
     "text": [
      "Random Choices: [50 40 30]\n"
     ]
    }
   ],
   "source": [
    "choices = np.random.choice([10, 20, 30, 40, 50], size=3)\n",
    "print(\"Random Choices:\", choices)"
   ]
  },
  {
   "cell_type": "markdown",
   "id": "c4b5c6fb",
   "metadata": {},
   "source": [
    "#### Binomial Distribution"
   ]
  },
  {
   "cell_type": "code",
   "execution_count": 20,
   "id": "910b16f9",
   "metadata": {},
   "outputs": [
    {
     "name": "stdout",
     "output_type": "stream",
     "text": [
      "Binomial: [3 6 7 7 5]\n"
     ]
    }
   ],
   "source": [
    "binomial = np.random.binomial(10, 0.5, 5)\n",
    "print(\"Binomial:\", binomial)"
   ]
  },
  {
   "cell_type": "code",
   "execution_count": null,
   "id": "99269802",
   "metadata": {},
   "outputs": [],
   "source": []
  }
 ],
 "metadata": {
  "kernelspec": {
   "display_name": "venv",
   "language": "python",
   "name": "python3"
  },
  "language_info": {
   "codemirror_mode": {
    "name": "ipython",
    "version": 3
   },
   "file_extension": ".py",
   "mimetype": "text/x-python",
   "name": "python",
   "nbconvert_exporter": "python",
   "pygments_lexer": "ipython3",
   "version": "3.13.1"
  }
 },
 "nbformat": 4,
 "nbformat_minor": 5
}
