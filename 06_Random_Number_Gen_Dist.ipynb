{
 "cells": [
  {
   "cell_type": "markdown",
   "id": "f5846950",
   "metadata": {},
   "source": [
    "#### Generate Random Numbers"
   ]
  },
  {
   "cell_type": "code",
   "execution_count": 5,
   "id": "8f294cfe",
   "metadata": {},
   "outputs": [],
   "source": [
    "import numpy as np"
   ]
  },
  {
   "cell_type": "code",
   "execution_count": 6,
   "id": "d6726a97",
   "metadata": {},
   "outputs": [
    {
     "name": "stdout",
     "output_type": "stream",
     "text": [
      "5 random numbers  [6 6 2 6 5]\n"
     ]
    }
   ],
   "source": [
    "# 5 random b/w 0 to 9\n",
    "rand_int = np.random.randint(0, 9, size=5)\n",
    "print(\"5 random numbers \", rand_int)"
   ]
  },
  {
   "cell_type": "code",
   "execution_count": 7,
   "id": "b54b3eec",
   "metadata": {},
   "outputs": [
    {
     "name": "stdout",
     "output_type": "stream",
     "text": [
      "Random floats b/w 0 to 1 [0.1671712  0.25827647 0.5032873  0.20669328 0.47320693]\n"
     ]
    }
   ],
   "source": [
    "# Generate 5 number b/w 0 to 1\n",
    "rand_floats = np.random.rand(5)\n",
    "print('Random floats b/w 0 to 1', rand_floats)"
   ]
  },
  {
   "cell_type": "code",
   "execution_count": null,
   "id": "4e59353e",
   "metadata": {},
   "outputs": [],
   "source": []
  }
 ],
 "metadata": {
  "kernelspec": {
   "display_name": "venv",
   "language": "python",
   "name": "python3"
  },
  "language_info": {
   "codemirror_mode": {
    "name": "ipython",
    "version": 3
   },
   "file_extension": ".py",
   "mimetype": "text/x-python",
   "name": "python",
   "nbconvert_exporter": "python",
   "pygments_lexer": "ipython3",
   "version": "3.13.1"
  }
 },
 "nbformat": 4,
 "nbformat_minor": 5
}
